{
 "cells": [
  {
   "cell_type": "code",
   "execution_count": null,
   "metadata": {},
   "outputs": [],
   "source": [
    "from fastai.vision.all import *\n",
    "from fastai.vision.widgets import *"
   ]
  },
  {
   "attachments": {},
   "cell_type": "markdown",
   "metadata": {},
   "source": [
    "# NYC Bird Classifier\n",
    "\n",
    "Upload a picture of a bird, and this classifier will identify which of the 21 most sighted birds in New York it most resembles! A beginner birdwatcher may recognize a great many of these.\n",
    "\n",
    "Birdwatchers' most popular reported species, NYC 2019-2021:\n",
    "> American Crow\n",
    "> American Robin\n",
    "> Blue Jay\n",
    "> Canada Goose\n",
    "> Common Grackle\n",
    "> Double-crested Cormorant\n",
    "> Downy Woodpecker\n",
    "> European Starling\n",
    "> Great Black-backed Gull\n",
    "> Great Blue Heron\n",
    "> Herring Gull\n",
    "> House Sparrow\n",
    "> Mallard\n",
    "> Mourning Dove\n",
    "> Northern Cardinal\n",
    "> Northern Mockingbird\n",
    "> Red-bellied Woodpecker\n",
    "> Red-tailed Hawk\n",
    "> Ring-billed Gull\n",
    "> Rock Pigeon\n",
    "> Song Sparrow\n",
    "\n",
    "Using data from the Cornell Ornithology Lab 2019-2021\n",
    "https://ebird.org/GuideMe?cmd=changeLocation"
   ]
  },
  {
   "cell_type": "code",
   "execution_count": null,
   "metadata": {},
   "outputs": [],
   "source": [
    "path = Path()\n",
    "learn_inf = load_learner(path/'bird-export-6.pkl', cpu=True)\n",
    "btn_upload = widgets.FileUpload()\n",
    "out_pl = widgets.Output()\n",
    "lbl_pred = widgets.Label()"
   ]
  },
  {
   "cell_type": "code",
   "execution_count": null,
   "metadata": {},
   "outputs": [],
   "source": [
    "def on_data_change(change):\n",
    "    lbl_pred.value = ''\n",
    "    img = PILImage.create(btn_upload.data[-1])\n",
    "    out_pl.clear_output()\n",
    "    with out_pl: display(img.to_thumb(128,128))\n",
    "    pred,pred_idx,probs = learn_inf.predict(img)\n",
    "    lbl_pred.value = f'Prediction: {pred}; Probability: {probs[pred_idx]:.04f}'"
   ]
  },
  {
   "cell_type": "code",
   "execution_count": null,
   "metadata": {},
   "outputs": [],
   "source": [
    "btn_upload.observe(on_data_change, names=['data'])"
   ]
  },
  {
   "cell_type": "code",
   "execution_count": null,
   "metadata": {},
   "outputs": [],
   "source": [
    "display(VBox([widgets.Label('Upload your bird picture!'), btn_upload, out_pl, lbl_pred]))"
   ]
  }
 ],
 "metadata": {
  "colab": {
   "name": "02_production.ipynb",
   "provenance": []
  },
  "jupytext": {
   "split_at_heading": true
  },
  "kernelspec": {
   "display_name": "Python 3",
   "language": "python",
   "name": "python3"
  },
  "language_info": {
   "codemirror_mode": {
    "name": "ipython",
    "version": 3
   },
   "file_extension": ".py",
   "mimetype": "text/x-python",
   "name": "python",
   "nbconvert_exporter": "python",
   "pygments_lexer": "ipython3",
   "version": "3.8.8"
  }
 },
 "nbformat": 4,
 "nbformat_minor": 1
}
